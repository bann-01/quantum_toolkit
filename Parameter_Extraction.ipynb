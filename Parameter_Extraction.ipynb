{
 "cells": [
  {
   "cell_type": "markdown",
   "metadata": {},
   "source": [
    "# Reversed parameter calculation.\n",
    "\n",
    "Target system : Dispersively coupled a transmon and a resonator.\n",
    "\n",
    "The transmon ($\\hat{H}_{q}$) is approximated by Kerr or Duffing oscilltor like below,\n",
    "\n",
    "\\begin{equation}\n",
    "    \\hat{H}_q = (\\omega_q+E_C) \\hat{b}^\\dagger \\hat{b} - \\frac{E_C}{12} \\left( \\hat{b} + \\hat{b}^\\dagger \\right) ^4,\n",
    "\\end{equation}\n",
    "\n",
    "or\n",
    "\n",
    "\\begin{equation}\n",
    "    \\hat{H}_q = \\omega_q \\hat{b}^\\dagger \\hat{b} - \\frac{E_C}{2} \\hat{b}^\\dagger \\hat{b}^\\dagger \\hat{b} \\hat{b}.\n",
    "\\end{equation}\n",
    "\n",
    "When transversely driven by a linear resonator, the total system Hamiltonian is given by,\n",
    "\n",
    "\\begin{align}\n",
    "    \\hat{H} & = \\hat{H}_{q} + \\omega_c \\hat{a}^\\dagger \\hat{a} + g (\\hat{b} + \\hat{b}^\\dagger) (\\hat{a} + \\hat{a}^\\dagger).\n",
    "\\end{align}\n",
    "\n",
    "In low excitation limit, for both Kerr and Duffing cases, the Hamiltonian can be reduced to,\n",
    "\n",
    "\\begin{align}\n",
    "    \\hat{H}_{low} & = \\omega'_{q} \\hat{b}^\\dagger \\hat{b} - \\frac{A_{q}}{2} \\hat{b}^\\dagger \\hat{b}^\\dagger \\hat{b} \\hat{b}+ \\omega'_{c} \\hat{a}^\\dagger \\hat{a} - \\frac{A_{c}}{2} \\hat{a}^\\dagger \\hat{a}^\\dagger \\hat{a} \\hat{a}\n",
    "-2A_{qc} \\hat{a}^\\dagger \\hat{a}\\hat{b}^\\dagger \\hat{b}.\n",
    "\\end{align}\n",
    "\n",
    "\n",
    "## Definition of parameters :\n",
    "$\\omega_{q}$  : Bare Transmon frequency \\\n",
    "$\\omega'_{q}$ : Dressed Transmon frequency.\\\n",
    "$\\omega_{c}$  : Bare Resonator frequency.\\\n",
    "$\\omega'_{c}$ : Dressed resonator frequency.\\\n",
    "$E_c$         : Charging energy of Transmon.\\\n",
    "$g$           : Bare coupling \\\n",
    "$A_q$         : Transmon anharmonicty.\\\n",
    "$A_c$         : Resonator anharminicity.\\\n",
    "$A_{qc}$      : Cross anharmonicity.\n",
    "\n",
    "\n",
    "## An objective :\n",
    "\n",
    "This code finds the parameters of bare Hamiltonian ($\\omega_{q},\\omega_{c}, E_c, g$) from the parameters in low excitation limit Hamiltonian ($\\omega'_{q},\\omega'_{c}, A_q, A_c, A_{qc}$) and vice versa.\n",
    "\n",
    "Requirements : \\\n",
    "when the $2\\omega_{r}$ > $\\omega_{q}$ (transmon resonant frequency) > $\\omega_{r}$ (resonator resonant frequency) or \\\n",
    "when the $2\\omega_{q}$ > $\\omega_{r}$ (transmon resonant frequency) > $\\omega_{q}$ (resonator resonant frequency).\n",
    "\n",
    "### To do list : \n",
    "Kerr coefficient finding."
   ]
  },
  {
   "cell_type": "code",
   "execution_count": 3,
   "metadata": {},
   "outputs": [],
   "source": [
    "from qutip import *\n",
    "from scipy.optimize import minimize\n",
    "from scipy import stats\n",
    "import numpy as np\n",
    "import matplotlib.pyplot as plt"
   ]
  },
  {
   "cell_type": "code",
   "execution_count": 9,
   "metadata": {},
   "outputs": [],
   "source": [
    "# Dress parameters \n",
    "wq_dressed = 6.4438\n",
    "wc_dressed = 4.0555\n",
    "A_qc = 0.000497*2 \n",
    "A_q = 0.150"
   ]
  },
  {
   "cell_type": "markdown",
   "metadata": {},
   "source": [
    "# Functions\n",
    "Extract bare parameters from given dressed paramters."
   ]
  },
  {
   "cell_type": "code",
   "execution_count": 18,
   "metadata": {
    "scrolled": true
   },
   "outputs": [
    {
     "name": "stdout",
     "output_type": "stream",
     "text": [
      "Parameter estimation \n",
      "wc :4.060489806498666 \n",
      "wq :6.440682865366634 \n",
      "g  :0.09844896232787818 \n",
      "Ec :0.1505202766379229\n"
     ]
    }
   ],
   "source": [
    "def model_auto(params_bare,params_dressed, Nq = 10, Nc=10, sys='Kerr', detun='Pos'):\n",
    "    \"\"\"\n",
    "    Calculate the cost function that represents how the given bare and dressed parameters are consistent.\n",
    "    ----------------------\n",
    "    Input parameters \n",
    "        params_bare  : wc, wq, g, Ec\n",
    "        params_dress : wc_dressd, wq_dressd, A_q, A_qc\n",
    "    Return\n",
    "        Cost function.\n",
    "        \n",
    "    \"\"\"\n",
    "    wc,wq,g, Ec                     = params_bare\n",
    "    wc_dressd, wq_dressd, A_q, A_qc = params_dress\n",
    "\n",
    "    Nq = 10             # number of levels in qubit\n",
    "    Nc = 10             # number of levels in resonator  \n",
    "    b = tensor(destroy(Nq), qeye(Nc))\n",
    "    a = tensor(qeye(Nc), destroy(Nq))\n",
    "    nq = b.dag()*b\n",
    "    nc = a.dag()*a\n",
    "    \n",
    "    if sys == 'Duffing':\n",
    "        Hi = (wq+Ec)*nq + wc*nc - Ec/12*(b + b.dag())**4 \n",
    "    elif sys == 'Kerr':\n",
    "        Hi = (wq)*nq + wc*nc - Ec/2* b.dag()* b.dag()*b*b\n",
    "    Hc = g*(a + a.dag())*(b + b.dag())  # coupling\n",
    "    EE = (Hi+Hc).eigenenergies()\n",
    "    if detun == 'Pos':\n",
    "        wq_dressed_p = EE[2]-EE[0]\n",
    "        wc_dressed_p = EE[1]-EE[0]\n",
    "        A_qc_p = EE[2]-EE[0]-EE[4]+EE[1]\n",
    "        A_q_p = EE[2]-EE[0]-EE[6]+EE[2]\n",
    "    elif detun == 'Neg':\n",
    "        wq_dressed_p = EE[1]-EE[0]\n",
    "        wc_dressed_p = EE[2]-EE[0]\n",
    "        A_qc_p = EE[1]-EE[0]- EE[4]+EE[2]\n",
    "        A_q_p = EE[1]-EE[0]-EE[3]+EE[1]\n",
    "    return (wq_dressed_p-wq_dressed)**2 + (wc_dressed_p-wc_dressed)**2 +(A_qc_p-A_qc)**2 +(A_q_p-A_q)**2\n",
    "             # Cost function.\n",
    "\n",
    "# initial bare parameters.\n",
    "wc_ini = 4.0755\n",
    "wq_ini  = 6.8112\n",
    "g_ini = 0.12135\n",
    "Ec_ini = 0.137\n",
    "\n",
    "Nq = 10\n",
    "Nc = 10\n",
    "params_dressed = [wc_dressed,wq_dressed,A_q, A_qc]\n",
    "\n",
    "# find the optimal combination bare parameters that minimize the cost function for given dressed parameters.\n",
    "\n",
    "result = minimize(model_auto, [wc_ini,wq_ini, g_ini, Ec_ini],args=(params_dressed, Nq, Nc, 'Kerr', 'Pos'))\n",
    "print('Parameter estimation \\nwc :{} \\nwq :{} \\ng  :{} \\nEc :{}'.format(result.x[0],result.x[1],result.x[2],result.x[3]))\n"
   ]
  },
  {
   "cell_type": "code",
   "execution_count": 34,
   "metadata": {},
   "outputs": [
    {
     "name": "stdout",
     "output_type": "stream",
     "text": [
      "wq_dressed :6.443799238432104 \n",
      "wc_dressed :4.055499770375225 \n",
      "A_qc       :0.00028645821257677895 \n",
      "A_q        :0.15000177730528197\n"
     ]
    }
   ],
   "source": [
    "def reverseconfirm (result,sys='Kerr',detun='Pos'):\n",
    "    \"\"\"\n",
    "    Calculate dressed parameters for \n",
    "    \n",
    "    ---------------------------\n",
    "    Input parameters \n",
    "        result  :  output of 'minimize' function. \n",
    "    Return\n",
    "        wq_dressed, wc_dressed, A_qc, Aq.\n",
    "        \n",
    "    \"\"\"\n",
    "    wc = result.x[0]\n",
    "    wq = result.x[1]\n",
    "    g = result.x[2]\n",
    "    Ec =  result.x[3]\n",
    "    \n",
    "    Nq = 10             # number of levels in qubit\n",
    "    Nc = 10             # number of levels in resonator  \n",
    "    b = tensor(destroy(Nq), qeye(Nc))\n",
    "    a = tensor(qeye(Nc), destroy(Nq))\n",
    "    nq = b.dag()*b\n",
    "    nc = a.dag()*a\n",
    "    \n",
    "    if sys == 'Duffing':\n",
    "        Hi = (wq+Ec)*nq + wc*nc - Ec/12*(b + b.dag())**4 \n",
    "    elif sys == 'Kerr':\n",
    "        Hi = (wq)*nq + wc*nc - Ec/2* b.dag()* b.dag()*b*b\n",
    "    Hc = g*(a + a.dag())*(b + b.dag())  # coupling\n",
    "    EE = (Hi+Hc).eigenenergies()\n",
    "    if detun == 'Pos':\n",
    "        wq_dressed = EE[2]-EE[0]\n",
    "        wc_dressed = EE[1]-EE[0]\n",
    "        Aqc = (EE[2]-EE[0]-EE[4]+EE[1])*0.5\n",
    "        Aq = EE[2]-EE[0]-EE[6]+EE[2]\n",
    "        print('wq_dressed :{} \\nwc_dressed :{} \\nA_qc       :{} \\nA_q        :{}'.format(wq_dressed,wc_dressed,Aqc,Aq))\n",
    "    elif detun == 'Neg':\n",
    "        wq_dressed = EE[1]-EE[0]\n",
    "        wc_dressed = EE[2]-EE[0]\n",
    "        Aqc = (EE[1]-EE[0]- EE[4]+EE[2])*0.5\n",
    "        Aq = EE[1]-EE[0]-EE[3]+EE[1]\n",
    "        print('wq_dressed :{} \\nwc_dressed :{} \\n$A_qc$      :{}\\nA_q       :{}'.format(wq_dressed,wc_dressed,Aqc,Aq))\n",
    "\n",
    "reverseconfirm(result,sys='Kerr',detun='Pos')"
   ]
  },
  {
   "cell_type": "code",
   "execution_count": null,
   "metadata": {},
   "outputs": [],
   "source": []
  }
 ],
 "metadata": {
  "kernelspec": {
   "display_name": "Python 3",
   "language": "python",
   "name": "python3"
  },
  "language_info": {
   "codemirror_mode": {
    "name": "ipython",
    "version": 3
   },
   "file_extension": ".py",
   "mimetype": "text/x-python",
   "name": "python",
   "nbconvert_exporter": "python",
   "pygments_lexer": "ipython3",
   "version": "3.7.6"
  }
 },
 "nbformat": 4,
 "nbformat_minor": 2
}
